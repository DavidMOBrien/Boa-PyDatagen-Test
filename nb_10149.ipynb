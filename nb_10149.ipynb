{
 "cells": [
  {
   "cell_type": "code",
   "execution_count": null,
   "metadata": {
    "collapsed": true
   },
   "outputs": [],
   "source": [
    "\n",
    "\n",
    "\n",
    "\n",
    "from sklearn.ensemble import GradientBoostingClassifier\n",
    "rj = GradientBoostingClassifier()\n",
    "rj.fit(X_train,y_train)\n",
    "\n",
    "labels = rj.predict_proba(df23)\n",
    "\n",
    "data22 = {'ID': df2.ID.values,'Outcome':labels[:,1]}\n",
    "tocsv = pd.DataFrame(data = data22)\n",
    "tocsv.to_csv('submission_gbcproba.csv')\n",
    "\n"
   ]
  }
 ],
 "metadata": {
  "anaconda-cloud": {},
  "kernelspec": {
   "display_name": "Python [Root]",
   "language": "python",
   "name": "Python [Root]"
  },
  "language_info": {
   "codemirror_mode": {
    "name": "ipython",
    "version": 2
   },
   "file_extension": ".py",
   "mimetype": "text/x-python",
   "name": "python",
   "nbconvert_exporter": "python",
   "pygments_lexer": "ipython2",
   "version": "2.7.11"
  }
 },
 "nbformat": 4,
 "nbformat_minor": 0
}
